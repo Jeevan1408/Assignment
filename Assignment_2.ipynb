{
 "cells": [
  {
   "cell_type": "code",
   "execution_count": 2,
   "metadata": {},
   "outputs": [
    {
     "name": "stdout",
     "output_type": "stream",
     "text": [
      "14\n"
     ]
    }
   ],
   "source": [
    "# Write a python program to implement your own myreduce() function which works exactly as python's built-in function reduce()\n",
    "\n",
    "def add(a, b):\n",
    "    return a+b\n",
    "\n",
    "l = [5, 2, 3, 4]\n",
    "\n",
    "def my_reduce(func, l):\n",
    "\n",
    "    i = 1\n",
    "    a = l[0]\n",
    "    while i < len(l):\n",
    "        b = l[i]\n",
    "        temp = func(a, b)\n",
    "        a = temp\n",
    "        i = i + 1\n",
    "    return temp\n",
    "\n",
    "print(my_reduce(add, l))"
   ]
  },
  {
   "cell_type": "code",
   "execution_count": 3,
   "metadata": {},
   "outputs": [
    {
     "name": "stdout",
     "output_type": "stream",
     "text": [
      "[25, 4, 9, 16]\n"
     ]
    }
   ],
   "source": [
    "# Write a python program to implement your own myfilter() function which works exactly as python's built-in function filter()\n",
    "\n",
    "def square(a):\n",
    "    return a*a\n",
    "\n",
    "l = [5, 2, 3, 4]\n",
    "\n",
    "def my_map(func, l):\n",
    "    new_list = []\n",
    "    for item in l:\n",
    "        new_list.append(func(item))\n",
    "    return new_list\n",
    "\n",
    "print(my_map(square, l))"
   ]
  },
  {
   "cell_type": "code",
   "execution_count": 2,
   "metadata": {},
   "outputs": [
    {
     "name": "stdout",
     "output_type": "stream",
     "text": [
      "['A', 'C', 'A', 'D', 'G', 'I', 'L', 'D']\n",
      "\n",
      "['x', 'xx', 'xxx', 'xxxx', 'y', 'yy', 'yyy', 'yyyy', 'z', 'zz', 'zzz', 'zzzz']\n",
      "\n",
      "['x', 'y', 'z', 'xx', 'yy', 'zz', 'xxx', 'yyy', 'zzz', 'xxxx', 'yyyy', 'zzzz']\n",
      "\n",
      "[[2], [3], [4], [3], [4], [5], [4], [5], [6]]\n",
      "\n",
      "[[2, 3, 4, 5], [3, 4, 5, 6], [4, 5, 6, 7], [5, 6, 7, 8]]\n",
      "\n",
      "[(1, 1), (2, 1), (3, 1), (1, 2), (2, 2), (3, 2), (1, 3), (2, 3), (3, 3)]\n"
     ]
    }
   ],
   "source": [
    "# Implement list comprehension to produce the following list.\n",
    "\n",
    "alp = [a for a in 'ACADGILD']\n",
    "print(alp)\n",
    "print()\n",
    "comp2 = [a*i for a in 'xyz' for i in range(1, 5)]\n",
    "print(comp2)\n",
    "print()\n",
    "j = 1\n",
    "comp = [a*j for j in range(5) for a in 'xyz' for i in range(1, 5) if j == i]\n",
    "print(comp)\n",
    "print()\n",
    "print([[i+j] for j in range(2,5) for i in range(3)])\n",
    "print()\n",
    "print([[i, i+1, i+2, i+3] for i in range(2, 6)])\n",
    "print()\n",
    "print([(j, i) for i in range(1, 4) for j in range(1, 4)])\n"
   ]
  },
  {
   "cell_type": "code",
   "execution_count": 36,
   "metadata": {},
   "outputs": [
    {
     "name": "stdout",
     "output_type": "stream",
     "text": [
      "how many words would you like to pass :3\n",
      "enter the word :redmi\n",
      "enter the word :nokia\n",
      "enter the word :samsung\n",
      "longest word in the list is samsung\n"
     ]
    }
   ],
   "source": [
    "# Implement a function longestWord() that takes a list of words and returns the longest one.\n",
    "\n",
    "def longestWord():\n",
    "    lis = []\n",
    "    num = int(input('how many words would you like to pass :'))\n",
    "    for i in range(num):\n",
    "        words = input('enter the word :')\n",
    "        lis.append(words)\n",
    "    print('longest word in the list is', max(lis, key=len))\n",
    "\n",
    "\n",
    "longestWord()"
   ]
  },
  {
   "cell_type": "code",
   "execution_count": 42,
   "metadata": {},
   "outputs": [
    {
     "name": "stdout",
     "output_type": "stream",
     "text": [
      "enter the semi perimeter value :6\n",
      "enter 1st side value which is lesser than semi permiter :2\n",
      "enter 2nd side value which is lesser than semi permiter :3\n",
      "enter 3rd side value which is lesser than semi permiter :4\n",
      "area of triangle is 12.0\n"
     ]
    }
   ],
   "source": [
    "# Write a program to find the area of a triangle using formula.\n",
    "# Function to take the lenght of the sides of triangle from user should be defined in parent class and function to calculate the\n",
    "# area should be defined in sub-class.\n",
    "\n",
    "class Input:\n",
    "    def values(self):\n",
    "        s = int(input('enter the semi perimeter value :'))\n",
    "        a = int(input('enter 1st side value which is lesser than semi permiter :'))\n",
    "        b = int(input('enter 2nd side value which is lesser than semi permiter :'))\n",
    "        c = int(input('enter 3rd side value which is lesser than semi permiter :'))\n",
    "        d = Triangle.calc(s, a, b, c)\n",
    "        return d\n",
    "\n",
    "\n",
    "class Triangle(Input):\n",
    "    def calc(s, a, b, c):\n",
    "        area = (s*(s-a)*(s-b)*(s-c))**0.5\n",
    "        return area\n",
    "\n",
    "\n",
    "call = Triangle().values()\n",
    "print('area of triangle is', call)"
   ]
  },
  {
   "cell_type": "code",
   "execution_count": 43,
   "metadata": {},
   "outputs": [
    {
     "name": "stdout",
     "output_type": "stream",
     "text": [
      "enter the value of n: 4\n",
      "list of words that are greater than 4 are ['python', 'javascript']\n"
     ]
    }
   ],
   "source": [
    "# Write a function filter_longest_word that takes a list of words and an integer n and returns the list of words that are longer\n",
    "# than n.\n",
    "\n",
    "n = int(input('enter the value of n: '))\n",
    "\n",
    "\n",
    "def filter_longest_word(a, b):\n",
    "\n",
    "    word = [i for i in a if len(i)>b]\n",
    "    print('list of words that are greater than', n,'are', word)\n",
    "\n",
    "\n",
    "filter_longest_word(['java', 'python', 'C++', 'javascript'], n)\n"
   ]
  },
  {
   "cell_type": "code",
   "execution_count": 34,
   "metadata": {},
   "outputs": [
    {
     "name": "stdout",
     "output_type": "stream",
     "text": [
      "[4, 4, 5, 5]\n"
     ]
    }
   ],
   "source": [
    "# Write a python program to using function concepts that maps list of words into a list of integers representing the lengths of\n",
    "# the corresponding words.\n",
    "\n",
    "def find_len(lis):\n",
    "    print([len(string) for string in lis])\n",
    "\n",
    "\n",
    "find_len(['nami', 'zoro', 'brook', 'luffy'])"
   ]
  },
  {
   "cell_type": "code",
   "execution_count": 35,
   "metadata": {},
   "outputs": [
    {
     "name": "stdout",
     "output_type": "stream",
     "text": [
      "enter a characterl\n",
      "false\n"
     ]
    }
   ],
   "source": [
    "# Write a python program which takes a character(i.e a string of length 1) and returns True if it is vowel, false otherwise.\n",
    "\n",
    "lower_vowels = ['a', 'e', 'i', 'o', 'u']\n",
    "upper_vowels = ['A', 'E', 'I', 'O', 'U']\n",
    "\n",
    "def check_vowel():\n",
    "    char = input('enter a character')\n",
    "    if char in lower_vowels or char in upper_vowels:\n",
    "        return 'true'\n",
    "    else:\n",
    "        return 'false'\n",
    "\n",
    "\n",
    "print(check_vowel())"
   ]
  },
  {
   "cell_type": "code",
   "execution_count": null,
   "metadata": {},
   "outputs": [],
   "source": []
  }
 ],
 "metadata": {
  "kernelspec": {
   "display_name": "Python 3",
   "language": "python",
   "name": "python3"
  },
  "language_info": {
   "codemirror_mode": {
    "name": "ipython",
    "version": 3
   },
   "file_extension": ".py",
   "mimetype": "text/x-python",
   "name": "python",
   "nbconvert_exporter": "python",
   "pygments_lexer": "ipython3",
   "version": "3.7.4"
  }
 },
 "nbformat": 4,
 "nbformat_minor": 2
}
