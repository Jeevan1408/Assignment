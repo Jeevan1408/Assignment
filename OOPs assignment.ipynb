{
 "cells": [
  {
   "cell_type": "code",
   "execution_count": 25,
   "metadata": {},
   "outputs": [
    {
     "name": "stdout",
     "output_type": "stream",
     "text": [
      "age is 22\n",
      "full name is jeevan kumar\n"
     ]
    }
   ],
   "source": [
    "class A:\n",
    "    def test(self, age):\n",
    "        print('age is', age)\n",
    "\n",
    "\n",
    "class B:\n",
    "    def test(self, fname, lname):\n",
    "        print('full name is', fname, lname)\n",
    "\n",
    "\n",
    "class C(A,B):\n",
    "    def __init__(self, age, fname, lname):\n",
    "        A.test(self, age)\n",
    "        B.test(self, fname, lname)\n",
    "\n",
    "\n",
    "c1 = C(22, 'jeevan','kumar')\n"
   ]
  },
  {
   "cell_type": "code",
   "execution_count": null,
   "metadata": {},
   "outputs": [],
   "source": []
  }
 ],
 "metadata": {
  "kernelspec": {
   "display_name": "Python 3",
   "language": "python",
   "name": "python3"
  },
  "language_info": {
   "codemirror_mode": {
    "name": "ipython",
    "version": 3
   },
   "file_extension": ".py",
   "mimetype": "text/x-python",
   "name": "python",
   "nbconvert_exporter": "python",
   "pygments_lexer": "ipython3",
   "version": "3.7.4"
  }
 },
 "nbformat": 4,
 "nbformat_minor": 2
}
